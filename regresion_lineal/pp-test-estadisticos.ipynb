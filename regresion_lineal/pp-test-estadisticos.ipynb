{
 "cells": [
  {
   "cell_type": "markdown",
   "metadata": {},
   "source": []
  },
  {
   "attachments": {},
   "cell_type": "markdown",
   "metadata": {},
   "source": [
    "En este ejercicio de pair programming seguiréis usando el dataset que seleccionasteis ayer.\n",
    "\n",
    "    - ¿Qué diferencia existe el error de tipo I y el error de tipo II?\n",
    "\n",
    "    - ¿Qué es la asimetría?\n",
    "\n",
    "    - ¿Es vuestra variable respuesta asimétrica?\n",
    "\n",
    "    - ¿Qué tipo de curtosis presenta vuestra variable respuesta?\n",
    "    \n",
    "    - ¿Es vuestra variable respuesta normal? Demostrarlo visual y analíticamente."
   ]
  }
 ],
 "metadata": {
  "language_info": {
   "name": "python"
  },
  "orig_nbformat": 4
 },
 "nbformat": 4,
 "nbformat_minor": 2
}
