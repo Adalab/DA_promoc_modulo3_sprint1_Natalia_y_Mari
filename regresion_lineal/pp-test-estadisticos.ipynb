{
 "cells": [
  {
   "cell_type": "markdown",
   "metadata": {},
   "source": [
    "### Machine Learning / Test Estadísticos I - Pair Programming"
   ]
  },
  {
   "attachments": {},
   "cell_type": "markdown",
   "metadata": {},
   "source": [
    "En este ejercicio de pair programming seguiréis usando el dataset que seleccionasteis ayer.\n",
    "\n",
    "    - ¿Qué diferencia existe el error de tipo I y el error de tipo II?\n",
    "\n",
    "La diferencia radica en que cuando cometemos el error de tipo I, es porque rechazamos la hipótesis nula cuando en realidad es verdadera, pero cunando tenemos un error de tipo II, la hipótesis nula es falsa, pero la aceptamos. Además, la probabilidad de cometer un error de tipo I es alfa, que es el nivel de significancia que tenemos, mientras que al probabilidad de cometer un error de tipo II es beta, y depende de la potencia de la prueba.\n",
    "\n",
    "    - ¿Qué es la asimetría?\n",
    "\n",
    "La falta de simetría que se presenta en una distribución teniendo en cuenta la media. Existen distribuciones asimétricas positivas y negativas, dependiendo de si la media es mayor o menor que la mediana y la moda.\n",
    "\n",
    "    - ¿Es vuestra variable respuesta asimétrica?\n",
    "\n",
    "\n",
    "\n",
    "    - ¿Qué tipo de curtosis presenta vuestra variable respuesta?\n",
    "    \n",
    "    - ¿Es vuestra variable respuesta normal? Demostrarlo visual y analíticamente."
   ]
  },
  {
   "attachments": {},
   "cell_type": "markdown",
   "metadata": {},
   "source": [
    "- Es asimétrica? "
   ]
  },
  {
   "cell_type": "code",
   "execution_count": 1,
   "metadata": {},
   "outputs": [],
   "source": [
    "from scipy.stats import skew\n",
    "\n",
    "import numpy as np\n",
    "import pandas as pd\n",
    "\n",
    "import matplotlib.pyplot as plt\n",
    "import seaborn as sns"
   ]
  },
  {
   "cell_type": "code",
   "execution_count": 4,
   "metadata": {},
   "outputs": [
    {
     "data": {
      "text/plain": [
       "array([-1.85776108,  0.17853652,  0.04457869, -0.54840684, -1.58198302,\n",
       "       -0.05046729,  1.20693795, -0.34776668, -0.38726633, -1.25233134,\n",
       "        1.20723559,  1.45994981,  0.31797297,  0.29942909,  0.78012076,\n",
       "       -0.42987365, -0.8809165 , -1.62072658,  0.63347311, -1.98678508])"
      ]
     },
     "execution_count": 4,
     "metadata": {},
     "output_type": "execute_result"
    }
   ],
   "source": [
    "mu, sigma = 0, 1 \n",
    "datos_normales = np.random.normal(mu, sigma, 1000) # 1000 corresponde con el número de datos que vamos a generar. \n",
    "datos_normales[:20]"
   ]
  },
  {
   "cell_type": "code",
   "execution_count": 5,
   "metadata": {},
   "outputs": [
    {
     "data": {
      "text/plain": [
       "array([0.36371217, 0.4538953 , 0.06776819, 0.45179901, 0.76549004,\n",
       "       0.03244303, 0.56119169, 0.39654073, 0.19318312, 0.55033561,\n",
       "       0.72274125, 0.77737318, 0.59711415, 0.94925091, 0.09969432,\n",
       "       0.43793617, 0.71852571, 0.54330649, 0.36125873, 0.38426107])"
      ]
     },
     "execution_count": 5,
     "metadata": {},
     "output_type": "execute_result"
    }
   ],
   "source": [
    "datos_no_normales = np.random.random(1000) \n",
    "datos_no_normales[:20]"
   ]
  }
 ],
 "metadata": {
  "kernelspec": {
   "display_name": "base",
   "language": "python",
   "name": "python3"
  },
  "language_info": {
   "codemirror_mode": {
    "name": "ipython",
    "version": 3
   },
   "file_extension": ".py",
   "mimetype": "text/x-python",
   "name": "python",
   "nbconvert_exporter": "python",
   "pygments_lexer": "ipython3",
   "version": "3.9.7"
  },
  "orig_nbformat": 4,
  "vscode": {
   "interpreter": {
    "hash": "ebacf0c690606339d2819fda86ce84d5dc8f19bdafd30d1cf039ac39003e3ee9"
   }
  }
 },
 "nbformat": 4,
 "nbformat_minor": 2
}
