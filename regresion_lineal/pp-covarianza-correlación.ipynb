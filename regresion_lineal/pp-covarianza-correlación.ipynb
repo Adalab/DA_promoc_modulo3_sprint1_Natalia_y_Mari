{
 "cells": [
  {
   "cell_type": "markdown",
   "metadata": {},
   "source": [
    "### Machine Learning / Test Estadísticos II: Covarianza y correlación - Pair Programming"
   ]
  },
  {
   "cell_type": "code",
   "execution_count": 1,
   "metadata": {},
   "outputs": [],
   "source": [
    "import pandas as pd\n",
    "import numpy as np\n",
    "\n",
    "import matplotlib.pyplot as plt\n",
    "import seaborn as sns\n",
    "\n",
    "plt.rcParams[\"figure.figsize\"] = (10,8)\n",
    "\n",
    "import warnings\n",
    "warnings.filterwarnings('ignore')"
   ]
  },
  {
   "cell_type": "markdown",
   "metadata": {},
   "source": [
    "En este ejercicio de pair programming seguiréis usando el dataset que seleccionasteis ayer.\n",
    "1. Pregunta teórica: ¿Qué diferencia existe entre la covarianza y la correlación?\n",
    "\n",
    "\n",
    "\n",
    "2. Calculad la covarianza y la correlación de nuestro dataset. No nos vale solo con que la calculéis, debéis hacer una interpretación de los resultados obtenidos. Calculad solo la correlación de Pearson.\n",
    "3. Con los resultados de la correlación del ejercicio anterior, cread un heatmap.\n",
    "4. Guardad la gráfica del heatmap."
   ]
  },
  {
   "cell_type": "code",
   "execution_count": 2,
   "metadata": {},
   "outputs": [],
   "source": [
    "df = pd.read_csv(\"data/adult.data_limpio.csv\", index_col = 0)"
   ]
  },
  {
   "attachments": {},
   "cell_type": "markdown",
   "metadata": {},
   "source": [
    "1. La covarianza nos dice si las variables seleccionadas varian en la misma dirección, en una escala de 0 - 1. Si tienen un efecto entre si mismas, será positiva. (Aumenta una, aumenta la otra.) De lo contrario, será negativa \n",
    "\n",
    "    Sin embargo la correlación va un poquito mas allá y nos dice también el grado o la fuerza que tiene esa relación, en este caso en una escala de -1 - 1. Nos indica si existe esta relación y la fuerza. "
   ]
  },
  {
   "cell_type": "code",
   "execution_count": 3,
   "metadata": {},
   "outputs": [
    {
     "data": {
      "text/html": [
       "<div>\n",
       "<style scoped>\n",
       "    .dataframe tbody tr th:only-of-type {\n",
       "        vertical-align: middle;\n",
       "    }\n",
       "\n",
       "    .dataframe tbody tr th {\n",
       "        vertical-align: top;\n",
       "    }\n",
       "\n",
       "    .dataframe thead th {\n",
       "        text-align: right;\n",
       "    }\n",
       "</style>\n",
       "<table border=\"1\" class=\"dataframe\">\n",
       "  <thead>\n",
       "    <tr style=\"text-align: right;\">\n",
       "      <th></th>\n",
       "      <th>final_weight</th>\n",
       "      <th>education_yrs</th>\n",
       "      <th>capital_gain</th>\n",
       "      <th>capital_lost</th>\n",
       "      <th>hours_week</th>\n",
       "    </tr>\n",
       "  </thead>\n",
       "  <tbody>\n",
       "    <tr>\n",
       "      <th>final_weight</th>\n",
       "      <td>1.000000</td>\n",
       "      <td>-0.043159</td>\n",
       "      <td>0.000437</td>\n",
       "      <td>-0.010259</td>\n",
       "      <td>-0.018770</td>\n",
       "    </tr>\n",
       "    <tr>\n",
       "      <th>education_yrs</th>\n",
       "      <td>-0.043159</td>\n",
       "      <td>1.000000</td>\n",
       "      <td>0.122627</td>\n",
       "      <td>0.079932</td>\n",
       "      <td>0.148127</td>\n",
       "    </tr>\n",
       "    <tr>\n",
       "      <th>capital_gain</th>\n",
       "      <td>0.000437</td>\n",
       "      <td>0.122627</td>\n",
       "      <td>1.000000</td>\n",
       "      <td>-0.031614</td>\n",
       "      <td>0.078409</td>\n",
       "    </tr>\n",
       "    <tr>\n",
       "      <th>capital_lost</th>\n",
       "      <td>-0.010259</td>\n",
       "      <td>0.079932</td>\n",
       "      <td>-0.031614</td>\n",
       "      <td>1.000000</td>\n",
       "      <td>0.054256</td>\n",
       "    </tr>\n",
       "    <tr>\n",
       "      <th>hours_week</th>\n",
       "      <td>-0.018770</td>\n",
       "      <td>0.148127</td>\n",
       "      <td>0.078409</td>\n",
       "      <td>0.054256</td>\n",
       "      <td>1.000000</td>\n",
       "    </tr>\n",
       "  </tbody>\n",
       "</table>\n",
       "</div>"
      ],
      "text/plain": [
       "               final_weight  education_yrs  capital_gain  capital_lost  \\\n",
       "final_weight       1.000000      -0.043159      0.000437     -0.010259   \n",
       "education_yrs     -0.043159       1.000000      0.122627      0.079932   \n",
       "capital_gain       0.000437       0.122627      1.000000     -0.031614   \n",
       "capital_lost      -0.010259       0.079932     -0.031614      1.000000   \n",
       "hours_week        -0.018770       0.148127      0.078409      0.054256   \n",
       "\n",
       "               hours_week  \n",
       "final_weight    -0.018770  \n",
       "education_yrs    0.148127  \n",
       "capital_gain     0.078409  \n",
       "capital_lost     0.054256  \n",
       "hours_week       1.000000  "
      ]
     },
     "execution_count": 3,
     "metadata": {},
     "output_type": "execute_result"
    }
   ],
   "source": [
    "# Calculamos la correlacion de Pearson con el metodo .corr() que luego \n",
    "# pasaremos a sns para construir nuestro mapa de calor y que así nos sea más visual\n",
    "# para realizar un análisis. \n",
    "matriz_correlacion = df.corr()\n",
    "matriz_correlacion "
   ]
  },
  {
   "cell_type": "code",
   "execution_count": 6,
   "metadata": {},
   "outputs": [
    {
     "data": {
      "image/png": "[encoded data removed]",
      "text/plain": [
       "<Figure size 720x576 with 2 Axes>"
      ]
     },
     "metadata": {
      "needs_background": "light"
     },
     "output_type": "display_data"
    }
   ],
   "source": [
    "# Creamos el mapa de calor \n",
    "sns.heatmap(matriz_correlacion, \n",
    "            cmap = \"YlGnBu\",\n",
    "           annot = True);\n",
    "plt.savefig(\"graficas/heatmap_censo.jpg\")"
   ]
  },
  {
   "attachments": {},
   "cell_type": "markdown",
   "metadata": {},
   "source": [
    "# Interpretacion de los resultados\n",
    "\n",
    "1. A primera vista, podemos observar que ninguna de nuestras variables, aparentemente, correlaciona especialamente entre sí.\n",
    "\n",
    "2. Podríamos decir que las variables que mas se afectan entre sí son hours_week (horas trabajadas por semana) con education_years (años de formación), lo cual tiene mucho sentido (podríamos esperar una correlacion mas alta incluso.) Aún así, el valor esta en 0.15, siendo este valor considerado una correlacion MUY BAJA. \n",
    "\n",
    "3. Education_years (Años de formación) también parece correlacionarse de una manera muy leve con capital_gain (capital ganado). De nuevo, esto nos parece más que lógico y volvemos a esperar una correlación mas alta aún (Quizás estos datos se encuentran un poco distorsionados por no haber gestionado aún los outliers)\n",
    "\n",
    "4. final_weight (censo ponderado?) es, desde luego, la que menos parece correlacionar con ninguna, y es nuestra variable respuesta elegida. "
   ]
  }
 ],
 "metadata": {
  "kernelspec": {
   "display_name": "base",
   "language": "python",
   "name": "python3"
  },
  "language_info": {
   "codemirror_mode": {
    "name": "ipython",
    "version": 3
   },
   "file_extension": ".py",
   "mimetype": "text/x-python",
   "name": "python",
   "nbconvert_exporter": "python",
   "pygments_lexer": "ipython3",
   "version": "3.9.7"
  },
  "orig_nbformat": 4,
  "vscode": {
   "interpreter": {
    "hash": "ebacf0c690606339d2819fda86ce84d5dc8f19bdafd30d1cf039ac39003e3ee9"
   }
  }
 },
 "nbformat": 4,
 "nbformat_minor": 2
}
